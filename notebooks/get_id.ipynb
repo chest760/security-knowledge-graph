{
 "cells": [
  {
   "cell_type": "code",
   "execution_count": 68,
   "metadata": {},
   "outputs": [
    {
     "name": "stdout",
     "output_type": "stream",
     "text": [
      "{'Subvert Access Control': 86, 'Manipulate Data Structures': 37, 'Inject Unexpected Items': 74, 'Engage in Deceptive Interactions': 80, 'Abuse Existing Functionality': 61, 'Manipulate System Resources': 99, 'Employ Probabilistic Techniques': 9, 'Collect and Analyze Information': 120, 'Manipulate Timing and State': 8}\n"
     ]
    }
   ],
   "source": [
    "# Mechanismの数\n",
    "import os\n",
    "import pandas as pd\n",
    "\n",
    "mechanism = pd.read_csv(\"/work/security_knowledge_graph/data/raw/capec_domain_mechanism.csv\")[\"Mechanism\"]\n",
    "\n",
    "dic = {}\n",
    "for key in mechanism.tolist():\n",
    "    for mec in key.split(\",\"):\n",
    "        mec = mec.strip()\n",
    "        if mec not in dic:\n",
    "            dic[mec] = 1\n",
    "        else:\n",
    "            dic[mec] += 1\n",
    "\n",
    "print(dic)"
   ]
  },
  {
   "cell_type": "code",
   "execution_count": 69,
   "metadata": {},
   "outputs": [
    {
     "name": "stdout",
     "output_type": "stream",
     "text": [
      "{'ParentOf': 533, 'ChildOf': 0, 'CanPrecede': 172, 'CanFollow': 0, 'PeerOf': 17}\n"
     ]
    }
   ],
   "source": [
    "# relationshipsの数\n",
    "dic = {\"ParentOf\": 0, \"ChildOf\": 0, \"CanPrecede\": 0, \"CanFollow\": 0, \"PeerOf\": 0}\n",
    "\n",
    "data = pd.read_csv(\"/work/security_knowledge_graph/data/processed/triplet.csv\")[:722]\n",
    "\n",
    "for relation in data[\"Relation\"].tolist():\n",
    "    dic[relation] += 1\n",
    "\n",
    "print(dic)"
   ]
  },
  {
   "cell_type": "code",
   "execution_count": 80,
   "metadata": {},
   "outputs": [
    {
     "name": "stdout",
     "output_type": "stream",
     "text": [
      "{'Engage in Deceptive Interactions': 1, 'Abuse Existing Functionality': 0, 'Manipulate Data Structures': 30, 'Manipulate System Resources': 0, 'Inject Unexpected Items': 38, 'Employ Probabilistic Techniques': 0, 'Manipulate Timing and State': 0, 'Collect and Analyze Information': 0, 'Subvert Access Control': 4}\n",
      "{'Software': 71, 'Hardware': 0, 'Communications': 1, 'Supply Chain': 0, 'Social Engineering': 4, 'Physical Security': 0}\n"
     ]
    }
   ],
   "source": [
    "data = pd.read_csv(\"/work/security_knowledge_graph/data/raw/capec_domain_mechanism.csv\")\n",
    "\n",
    "mechanism = {\n",
    "    \"Engage in Deceptive Interactions\": 0,\n",
    "    \"Abuse Existing Functionality\": 0,\n",
    "    \"Manipulate Data Structures\": 0,\n",
    "    \"Manipulate System Resources\": 0,\n",
    "    \"Inject Unexpected Items\": 0,\n",
    "    \"Employ Probabilistic Techniques\": 0,\n",
    "    \"Manipulate Timing and State\": 0,\n",
    "    \"Collect and Analyze Information\": 0,\n",
    "    \"Subvert Access Control\": 0\n",
    "}\n",
    "\n",
    "domain = {\n",
    "    \"Software\": 0,\n",
    "    \"Hardware\": 0,\n",
    "    \"Communications\": 0,\n",
    "    \"Supply Chain\": 0,\n",
    "    \"Social Engineering\": 0,\n",
    "    \"Physical Security\": 0\n",
    "}\n",
    "\n",
    "l1 = [168, 169, 173, 174, 175, 177, 178, 179, 180, 183, 184, 185, 186, 187, 188, 189, 190, 191, 192, 194, 197, 198, 199, 201, 202, 203, 204, 205, 206, 207, 208, 209, 210, 212, 213, 214]\n",
    "\n",
    "l2 = [7, 26, 32, 33, 49, 50, 101, 107, 120, 121, 124, 128, 129, 130, 132, 133, 146, 150, 158, 160, 161, 164, 165, 166, 211, 215, 296, 311, 313, 314, 315, 316, 318, 319, 320, 321, 322, 323, 324, 340, 353, 411, 420, 421, 422, 543, 544, 555]\n",
    "\n",
    "l3 = [14, 16, 17, 19, 59, 60, 62, 96, 104, 105, 228, 229, 230, 231, 232, 233, 234, 235, 236, 239, 241, 290, 317, 329, 338, 339, 377, 382, 385, 386, 387, 391, 425, 428, 429, 431, 432, 433, 435, 436, 438, 440, 441, 443, 445, 446, 447, 449, 450, 451, 452, 454, 455, 474, 475, 480, 482, 483, 484, 496, 497, 498, 525, 527, 551, 557]\n",
    "\n",
    "l4 = [18, 22, 28, 35, 44, 45, 46, 47, 52, 54, 58, 70, 72, 74, 81, 91, 92, 94, 95, 110, 112, 116, 117, 126, 145, 152, 155, 162, 167, 171, 172, 195, 196, 217, 218, 242, 300, 310, 325, 326, 337, 366, 368, 372, 373, 374, 375, 381, 392, 393, 395, 397, 398, 399, 400, 401, 402, 405, 406, 407, 408, 409, 410, 414, 416, 424, 430, 434, 463, 466, 468, 473, 476, 477, 478, 506, 520, 523, 528, 542, 545, 553]\n",
    "\n",
    "l5 = [11, 25, 27, 31, 34, 36, 41, 61, 63, 68, 69, 71, 73, 77, 78, 79, 93, 97, 109, 114, 131, 139, 147, 148, 149, 151, 153, 156, 157, 170, 216, 219, 238, 244, 253, 299, 306, 308, 378, 379, 383, 384, 388, 389, 390, 396, 403, 423, 464, 465, 471, 472, 479, 481, 486, 533, 534, 535, 536, 547, 556]\n",
    "\n",
    "l6 = [1, 2, 3, 6, 9, 10, 12, 21, 24, 29, 30, 37, 38, 39, 40, 42, 53, 56, 76, 80, 82, 85, 86, 102, 103, 106, 137, 138, 140, 141, 142, 143, 144, 154, 181, 200, 237, 264, 270, 280, 286, 287, 297, 298, 330, 333, 347, 355, 367, 412, 413, 417, 418, 426, 458, 469, 489, 500, 507, 526, 531, 532, 537, 538, 539, 540, 541, 546, 548, 550, 552]\n",
    "\n",
    "l7 = [0, 4, 8, 13, 15, 20, 23, 43, 64, 65, 83, 84, 100, 108, 113, 115, 118, 119, 122, 123, 125, 127, 159, 163, 176, 193, 220, 221, 222, 223, 224, 225, 226, 227, 289, 291, 292, 293, 294, 295, 328, 334, 341, 394, 404, 415, 419, 427, 437, 448, 462, 485, 492, 494, 529, 554]\n",
    "\n",
    "l8 = [5, 48, 51, 55, 57, 75, 98, 111, 134, 135, 136, 182, 285, 288, 301, 302, 303, 304, 305, 307, 309, 312, 327, 331, 332, 335, 336, 370, 376, 380, 439, 442, 444, 456, 457, 459, 460, 461, 470, 490, 491, 493, 504, 510, 511, 512, 513, 515, 516, 517, 518, 519, 521, 522, 530]\n",
    "\n",
    "l9 = [66, 67, 99, 243, 245, 246, 247, 248, 249, 250, 251, 252, 254, 255, 256, 257, 258, 259, 260, 261, 262, 263, 265, 266, 267, 487, 549, 558]\n",
    "\n",
    "l10 = [87, 88, 89, 90, 240, 268, 269, 271, 272, 273, 274, 275, 276, 277, 278, 279, 281, 282, 283, 284, 342, 343, 344, 345, 346, 348, 349, 350, 351, 352, 354, 356, 357, 358, 359, 360, 361, 362, 363, 364, 365, 369, 371, 453, 467, 488, 495, 499, 501, 502, 503, 505, 508, 509, 514, 524]\n",
    "\n",
    "\n",
    "selected_data = data.iloc[l6]\n",
    "\n",
    "for series in selected_data.to_records():\n",
    "    mechanisms = series[\"Mechanism\"]\n",
    "    domains = series[\"Domain\"]\n",
    "    \n",
    "    for mec in mechanisms.split(\",\"):\n",
    "        mec = mec.strip()\n",
    "        mechanism[mec] += 1\n",
    "\n",
    "    for dom in domains.split(\",\"):\n",
    "        dom = dom.strip()\n",
    "        domain[dom] += 1\n",
    "\n",
    "\n",
    "print(mechanism)\n",
    "\n",
    "print(domain)\n"
   ]
  },
  {
   "cell_type": "code",
   "execution_count": 121,
   "metadata": {},
   "outputs": [
    {
     "name": "stdout",
     "output_type": "stream",
     "text": [
      "クラスタ: 1\n",
      "{'Engage in Deceptive Interactions': 0, 'Abuse Existing Functionality': 0, 'Manipulate Data Structures': 0, 'Manipulate System Resources': 0, 'Inject Unexpected Items': 0, 'Employ Probabilistic Techniques': 0, 'Manipulate Timing and State': 0, 'Collect and Analyze Information': 36, 'Subvert Access Control': 0}\n",
      "クラスタ: 2\n",
      "{'Engage in Deceptive Interactions': 0, 'Abuse Existing Functionality': 15, 'Manipulate Data Structures': 0, 'Manipulate System Resources': 0, 'Inject Unexpected Items': 3, 'Employ Probabilistic Techniques': 0, 'Manipulate Timing and State': 0, 'Collect and Analyze Information': 0, 'Subvert Access Control': 0}\n",
      "クラスタ: 3\n",
      "{'Engage in Deceptive Interactions': 1, 'Abuse Existing Functionality': 18, 'Manipulate Data Structures': 1, 'Manipulate System Resources': 3, 'Inject Unexpected Items': 5, 'Employ Probabilistic Techniques': 0, 'Manipulate Timing and State': 0, 'Collect and Analyze Information': 1, 'Subvert Access Control': 2}\n",
      "クラスタ: 4\n",
      "{'Engage in Deceptive Interactions': 3, 'Abuse Existing Functionality': 1, 'Manipulate Data Structures': 0, 'Manipulate System Resources': 4, 'Inject Unexpected Items': 2, 'Employ Probabilistic Techniques': 0, 'Manipulate Timing and State': 0, 'Collect and Analyze Information': 17, 'Subvert Access Control': 0}\n",
      "クラスタ: 5\n",
      "{'Engage in Deceptive Interactions': 1, 'Abuse Existing Functionality': 5, 'Manipulate Data Structures': 0, 'Manipulate System Resources': 1, 'Inject Unexpected Items': 0, 'Employ Probabilistic Techniques': 7, 'Manipulate Timing and State': 0, 'Collect and Analyze Information': 2, 'Subvert Access Control': 24}\n",
      "クラスタ: 6\n",
      "{'Engage in Deceptive Interactions': 3, 'Abuse Existing Functionality': 2, 'Manipulate Data Structures': 0, 'Manipulate System Resources': 17, 'Inject Unexpected Items': 0, 'Employ Probabilistic Techniques': 0, 'Manipulate Timing and State': 1, 'Collect and Analyze Information': 2, 'Subvert Access Control': 1}\n",
      "クラスタ: 7\n",
      "{'Engage in Deceptive Interactions': 0, 'Abuse Existing Functionality': 4, 'Manipulate Data Structures': 0, 'Manipulate System Resources': 2, 'Inject Unexpected Items': 0, 'Employ Probabilistic Techniques': 2, 'Manipulate Timing and State': 0, 'Collect and Analyze Information': 48, 'Subvert Access Control': 1}\n",
      "クラスタ: 8\n",
      "{'Engage in Deceptive Interactions': 5, 'Abuse Existing Functionality': 2, 'Manipulate Data Structures': 6, 'Manipulate System Resources': 17, 'Inject Unexpected Items': 18, 'Employ Probabilistic Techniques': 0, 'Manipulate Timing and State': 4, 'Collect and Analyze Information': 0, 'Subvert Access Control': 9}\n",
      "クラスタ: 9\n",
      "{'Engage in Deceptive Interactions': 0, 'Abuse Existing Functionality': 0, 'Manipulate Data Structures': 30, 'Manipulate System Resources': 0, 'Inject Unexpected Items': 6, 'Employ Probabilistic Techniques': 0, 'Manipulate Timing and State': 0, 'Collect and Analyze Information': 0, 'Subvert Access Control': 1}\n",
      "クラスタ: 10\n",
      "{'Engage in Deceptive Interactions': 1, 'Abuse Existing Functionality': 0, 'Manipulate Data Structures': 0, 'Manipulate System Resources': 0, 'Inject Unexpected Items': 32, 'Employ Probabilistic Techniques': 0, 'Manipulate Timing and State': 0, 'Collect and Analyze Information': 0, 'Subvert Access Control': 3}\n",
      "クラスタ: 11\n",
      "{'Engage in Deceptive Interactions': 6, 'Abuse Existing Functionality': 11, 'Manipulate Data Structures': 0, 'Manipulate System Resources': 1, 'Inject Unexpected Items': 1, 'Employ Probabilistic Techniques': 0, 'Manipulate Timing and State': 1, 'Collect and Analyze Information': 5, 'Subvert Access Control': 33}\n",
      "クラスタ: 12\n",
      "{'Engage in Deceptive Interactions': 1, 'Abuse Existing Functionality': 1, 'Manipulate Data Structures': 0, 'Manipulate System Resources': 5, 'Inject Unexpected Items': 4, 'Employ Probabilistic Techniques': 0, 'Manipulate Timing and State': 2, 'Collect and Analyze Information': 0, 'Subvert Access Control': 11}\n",
      "クラスタ: 13\n",
      "{'Engage in Deceptive Interactions': 31, 'Abuse Existing Functionality': 0, 'Manipulate Data Structures': 0, 'Manipulate System Resources': 0, 'Inject Unexpected Items': 0, 'Employ Probabilistic Techniques': 0, 'Manipulate Timing and State': 0, 'Collect and Analyze Information': 2, 'Subvert Access Control': 1}\n",
      "クラスタ: 14\n",
      "{'Engage in Deceptive Interactions': 27, 'Abuse Existing Functionality': 0, 'Manipulate Data Structures': 0, 'Manipulate System Resources': 0, 'Inject Unexpected Items': 0, 'Employ Probabilistic Techniques': 0, 'Manipulate Timing and State': 0, 'Collect and Analyze Information': 6, 'Subvert Access Control': 0}\n",
      "クラスタ: 15\n",
      "{'Engage in Deceptive Interactions': 1, 'Abuse Existing Functionality': 2, 'Manipulate Data Structures': 0, 'Manipulate System Resources': 49, 'Inject Unexpected Items': 3, 'Employ Probabilistic Techniques': 0, 'Manipulate Timing and State': 0, 'Collect and Analyze Information': 1, 'Subvert Access Control': 0}\n"
     ]
    }
   ],
   "source": [
    "data = pd.read_csv(\"/work/security_knowledge_graph/data/raw/capec_domain_mechanism.csv\")\n",
    "\n",
    "\n",
    "def init():\n",
    "    mechanism = {\n",
    "        \"Engage in Deceptive Interactions\": 0,\n",
    "        \"Abuse Existing Functionality\": 0,\n",
    "        \"Manipulate Data Structures\": 0,\n",
    "        \"Manipulate System Resources\": 0,\n",
    "        \"Inject Unexpected Items\": 0,\n",
    "        \"Employ Probabilistic Techniques\": 0,\n",
    "        \"Manipulate Timing and State\": 0,\n",
    "        \"Collect and Analyze Information\": 0,\n",
    "        \"Subvert Access Control\": 0\n",
    "    }\n",
    "\n",
    "    domain = {\n",
    "        \"Software\": 0,\n",
    "        \"Hardware\": 0,\n",
    "        \"Communications\": 0,\n",
    "        \"Supply Chain\": 0,\n",
    "        \"Social Engineering\": 0,\n",
    "        \"Physical Security\": 0\n",
    "    }\n",
    "    \n",
    "    return mechanism, domain\n",
    "\n",
    "\n",
    "dic = {1: [168, 169, 173, 174, 175, 177, 178, 179, 180, 183, 184, 185, 186, 187, 188, 189, 190, 191, 192, 194, 197, 198, 199, 201, 202, 203, 204, 205, 206, 207, 208, 209, 210, 212, 213, 214], 2: [26, 32, 33, 50, 128, 296, 311, 313, 314, 315, 316, 322, 323, 324, 353, 420, 421, 422], 3: [7, 49, 101, 107, 120, 121, 124, 129, 130, 132, 133, 146, 150, 158, 160, 161, 164, 165, 166, 211, 215, 318, 319, 320, 321, 340, 411, 543, 544, 555], 4: [19, 59, 60, 96, 338, 385, 425, 429, 431, 432, 433, 435, 436, 438, 440, 441, 443, 445, 446, 447, 450, 451, 452, 454, 480, 482, 525], 5: [14, 16, 17, 62, 104, 105, 228, 229, 230, 231, 232, 233, 234, 235, 236, 239, 241, 290, 317, 329, 339, 377, 382, 386, 387, 391, 428, 449, 455, 474, 475, 483, 484, 496, 497, 498, 527, 551, 557], 6: [44, 45, 112, 116, 145, 155, 162, 171, 172, 310, 381, 395, 402, 407, 408, 409, 410, 414, 416, 424, 430, 434, 523, 528, 542, 553], 7: [18, 22, 28, 35, 46, 47, 52, 54, 58, 70, 72, 74, 81, 91, 92, 94, 95, 110, 117, 126, 152, 167, 195, 196, 217, 218, 242, 300, 325, 326, 337, 366, 368, 372, 373, 374, 375, 392, 393, 397, 398, 399, 400, 401, 405, 406, 463, 466, 468, 473, 476, 477, 478, 506, 520, 545], 8: [11, 25, 27, 31, 34, 36, 41, 61, 63, 68, 69, 71, 73, 77, 78, 79, 93, 97, 109, 114, 131, 139, 147, 148, 149, 151, 153, 156, 157, 170, 216, 219, 238, 244, 253, 299, 306, 308, 378, 379, 383, 384, 388, 389, 390, 396, 403, 423, 464, 465, 471, 472, 479, 481, 486, 533, 534, 535, 536, 547, 556], 9: [1, 2, 21, 24, 29, 30, 37, 42, 56, 103, 106, 137, 142, 143, 154, 181, 237, 264, 270, 280, 286, 297, 347, 355, 367, 469, 500, 531, 532, 538, 539, 540, 541, 550, 552], 10: [3, 6, 9, 10, 12, 38, 39, 40, 53, 76, 80, 82, 85, 86, 102, 138, 140, 141, 144, 200, 287, 298, 330, 333, 412, 413, 417, 418, 426, 458, 489, 507, 526, 537, 546, 548], 11: [0, 4, 8, 13, 15, 20, 23, 43, 64, 65, 83, 84, 100, 108, 113, 115, 118, 119, 122, 123, 125, 127, 159, 163, 176, 193, 220, 221, 222, 223, 224, 225, 226, 227, 289, 291, 292, 293, 294, 295, 328, 334, 341, 394, 404, 415, 419, 427, 437, 448, 462, 485, 492, 494, 529, 554], 12: [111, 134, 135, 136, 182, 307, 309, 376, 380, 442, 470, 490, 491, 493, 504, 510, 511, 512, 513, 515, 522, 530], 13: [5, 48, 51, 55, 57, 75, 98, 285, 288, 301, 302, 303, 304, 305, 312, 327, 331, 332, 335, 336, 370, 439, 444, 456, 457, 459, 460, 461, 516, 517, 518, 519, 521], 14: [66, 67, 99, 243, 245, 246, 247, 248, 249, 250, 251, 252, 254, 255, 256, 257, 258, 259, 260, 261, 262, 263, 265, 266, 267, 487, 549, 558], 15: [87, 88, 89, 90, 240, 268, 269, 271, 272, 273, 274, 275, 276, 277, 278, 279, 281, 282, 283, 284, 342, 343, 344, 345, 346, 348, 349, 350, 351, 352, 354, 356, 357, 358, 359, 360, 361, 362, 363, 364, 365, 369, 371, 453, 467, 488, 495, 499, 501, 502, 503, 505, 508, 509, 514, 524]}\n",
    "\n",
    "\n",
    "\n",
    "\n",
    "for key, value in dic.items():\n",
    "    selected_data = data.iloc[value]\n",
    "    \n",
    "    mechanism, domain = init()\n",
    "\n",
    "    for series in selected_data.to_records():\n",
    "        mechanisms = series[\"Mechanism\"]\n",
    "        domains = series[\"Domain\"]\n",
    "\n",
    "        for mec in mechanisms.split(\",\"):\n",
    "            mec = mec.strip()\n",
    "            mechanism[mec] += 1\n",
    "\n",
    "        for dom in domains.split(\",\"):\n",
    "            dom = dom.strip()\n",
    "            domain[dom] += 1\n",
    "\n",
    "    print(f\"クラスタ: {key}\")\n",
    "    print(mechanism)\n",
    "\n",
    "    # print(domain)\n"
   ]
  },
  {
   "cell_type": "code",
   "execution_count": 125,
   "metadata": {},
   "outputs": [
    {
     "name": "stdout",
     "output_type": "stream",
     "text": [
      "['Abuse Existing Functionality', 'Subvert Access Control']\n",
      "['Employ Probabilistic Techniques', 'Collect and Analyze Information']\n",
      "['Collect and Analyze Information', 'Subvert Access Control']\n",
      "['Engage in Deceptive Interactions', 'Collect and Analyze Information']\n",
      "['Engage in Deceptive Interactions', 'Collect and Analyze Information']\n",
      "['Engage in Deceptive Interactions', 'Collect and Analyze Information']\n",
      "['Engage in Deceptive Interactions', 'Collect and Analyze Information']\n",
      "['Engage in Deceptive Interactions', 'Collect and Analyze Information']\n",
      "['Engage in Deceptive Interactions', 'Collect and Analyze Information']\n",
      "['Manipulate Data Structures', 'Inject Unexpected Items']\n",
      "['Engage in Deceptive Interactions', 'Collect and Analyze Information']\n",
      "['Manipulate System Resources', 'Manipulate Timing and State']\n",
      "['Manipulate Data Structures', 'Inject Unexpected Items']\n",
      "['Manipulate System Resources', 'Manipulate Timing and State']\n",
      "['Abuse Existing Functionality', 'Subvert Access Control']\n"
     ]
    }
   ],
   "source": [
    "import pandas as pd\n",
    "\n",
    "data = pd.read_csv(\"/work/security_knowledge_graph/data/raw/capec_domain_mechanism.csv\")[\"Mechanism\"]\n",
    "\n",
    "for mechanisms in data.tolist():\n",
    "    mechanisms = mechanisms.split(\",\")\n",
    "    mechanisms = list(map(lambda x: x.strip(), mechanisms))\n",
    "    \n",
    "    if(len(mechanisms) > 1):\n",
    "        print(mechanisms)\n",
    "        \n",
    "        \n",
    "    "
   ]
  },
  {
   "cell_type": "code",
   "execution_count": null,
   "metadata": {},
   "outputs": [],
   "source": [
    "p"
   ]
  }
 ],
 "metadata": {
  "kernelspec": {
   "display_name": "Python 3 (ipykernel)",
   "language": "python",
   "name": "python3"
  }
 },
 "nbformat": 4,
 "nbformat_minor": 2
}
